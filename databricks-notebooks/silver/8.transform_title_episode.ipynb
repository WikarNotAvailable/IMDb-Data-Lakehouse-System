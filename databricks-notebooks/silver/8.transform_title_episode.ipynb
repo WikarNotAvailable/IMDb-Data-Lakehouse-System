{
 "cells": [
  {
   "cell_type": "code",
   "execution_count": 0,
   "metadata": {
    "application/vnd.databricks.v1+cell": {
     "cellMetadata": {
      "byteLimit": 2048000,
      "rowLimit": 10000
     },
     "inputWidgets": {},
     "nuid": "d512eb13-df2c-4d35-b857-44dd8890b3f7",
     "showTitle": false,
     "tableResultSettingsMap": {},
     "title": ""
    }
   },
   "outputs": [],
   "source": [
    "from pyspark.sql.window import Window\n",
    "from pyspark.sql.functions import row_number, col, when\n",
    "\n",
    "df = spark.read.table(\"imdb_dev.bronze.title_episode\") \n",
    "\n",
    "df_to_fill = df.filter((col(\"seasonNumber\").isNull()))\n",
    "df_to_fill = df_to_fill.withColumn(\"episodeNumber\", when(col(\"seasonNumber\").isNull(), row_number().over(Window.partitionBy(\"parentTconst\").orderBy(\"tconst\"))).otherwise(col(\"seasonNumber\"))) \n",
    "\n",
    "df_filled = df.filter(col(\"seasonNumber\").isNotNull())\n",
    "\n",
    "df_episode = df_filled.unionByName(df_to_fill)\n",
    "df_episode = (\n",
    "    df_episode.withColumn(\"seasonNumber\", when(col(\"seasonNumber\").isNull(), 1).otherwise(col(\"seasonNumber\")))\n",
    "    .withColumnRenamed(\"tconst\", \"titleId\")\n",
    "    .withColumnRenamed(\"parentTconst\", \"parentTitleId\") \n",
    ")\n",
    "\n",
    "df_episode.write.format(\"delta\").mode(\"overwrite\").insertInto(\"imdb_dev.silver.TitleEpisode\")"
   ]
  }
 ],
 "metadata": {
  "application/vnd.databricks.v1+notebook": {
   "computePreferences": null,
   "dashboards": [],
   "environmentMetadata": {
    "base_environment": "",
    "environment_version": "2"
   },
   "inputWidgetPreferences": null,
   "language": "python",
   "notebookMetadata": {
    "pythonIndentUnit": 4
   },
   "notebookName": "8.transform_title_episode",
   "widgets": {}
  },
  "language_info": {
   "name": "python"
  }
 },
 "nbformat": 4,
 "nbformat_minor": 0
}