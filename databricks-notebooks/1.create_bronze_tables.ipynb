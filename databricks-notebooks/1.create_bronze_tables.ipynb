{
 "cells": [
  {
   "cell_type": "code",
   "execution_count": 0,
   "metadata": {
    "application/vnd.databricks.v1+cell": {
     "cellMetadata": {},
     "inputWidgets": {},
     "nuid": "221abfc0-c85d-451f-8e19-a36a20a86613",
     "showTitle": false,
     "tableResultSettingsMap": {},
     "title": ""
    }
   },
   "outputs": [],
   "source": [
    "%sql\n",
    "CREATE TABLE IF NOT EXISTS imdb_dev.bronze.name_basics\n",
    "(\n",
    " nconst STRING,\n",
    " primaryName STRING,\n",
    " birthYear INT,\n",
    " deathYear INT,\n",
    " primaryProfession ARRAY<STRING>,\n",
    " knownForTitles ARRAY<STRING>\n",
    ")\n",
    "USING CSV \n",
    "OPTIONS (\n",
    "  path \"abfss://bronze@storageaccimdbdl.dfs.core.windows.net/name.basics.tsv\",\n",
    "  header \"true\",\n",
    "  delimeter '\\t'\n",
    "  );"
   ]
  },
  {
   "cell_type": "code",
   "execution_count": 0,
   "metadata": {
    "application/vnd.databricks.v1+cell": {
     "cellMetadata": {},
     "inputWidgets": {},
     "nuid": "16bc9ab2-e815-4554-bc1f-0bbbe1120edd",
     "showTitle": false,
     "tableResultSettingsMap": {},
     "title": ""
    }
   },
   "outputs": [],
   "source": [
    "%sql\n",
    "CREATE TABLE IF NOT EXISTS imdb_dev.bronze.title_ratings\n",
    "(\n",
    "  tconst STRING,\n",
    "  averageRating FLOAT,\n",
    "  numVotes INT\n",
    ")\n",
    "USING CSV \n",
    "OPTIONS (\n",
    "  path \"abfss://bronze@storageaccimdbdl.dfs.core.windows.net/title.ratings.tsv\",\n",
    "  header \"true\",\n",
    "  delimeter '\\t'\n",
    "  );"
   ]
  },
  {
   "cell_type": "code",
   "execution_count": 0,
   "metadata": {
    "application/vnd.databricks.v1+cell": {
     "cellMetadata": {},
     "inputWidgets": {},
     "nuid": "9b5774b1-1d12-4a71-8332-67b7fb813251",
     "showTitle": false,
     "tableResultSettingsMap": {},
     "title": ""
    }
   },
   "outputs": [],
   "source": [
    "%sql\n",
    "CREATE TABLE IF NOT EXISTS imdb_dev.bronze.title_principals\n",
    "(\n",
    "  tconst STRING,\n",
    "  ordering INT,\n",
    "  nconst STRING,\n",
    "  category STRING,\n",
    "  job STRING,\n",
    "  characters STRING\n",
    ")\n",
    "USING CSV \n",
    "OPTIONS (\n",
    "  path \"abfss://bronze@storageaccimdbdl.dfs.core.windows.net/title.principals.tsv\",\n",
    "  header \"true\",\n",
    "  delimeter '\\t'\n",
    "  );"
   ]
  },
  {
   "cell_type": "code",
   "execution_count": 0,
   "metadata": {
    "application/vnd.databricks.v1+cell": {
     "cellMetadata": {},
     "inputWidgets": {},
     "nuid": "4bd74d37-f160-4522-a71d-a897b8fada1c",
     "showTitle": false,
     "tableResultSettingsMap": {},
     "title": ""
    }
   },
   "outputs": [],
   "source": [
    "%sql\n",
    "CREATE TABLE IF NOT EXISTS imdb_dev.bronze.title_episode\n",
    "(\n",
    "  tconst STRING,\n",
    "  parentTconst STRING,\n",
    "  seasonNumber INT,\n",
    "  episodeNumber INT\n",
    ")\n",
    "USING CSV \n",
    "OPTIONS (\n",
    "  path \"abfss://bronze@storageaccimdbdl.dfs.core.windows.net/title.episode.tsv\",\n",
    "  header \"true\",\n",
    "  delimeter '\\t'\n",
    "  );"
   ]
  },
  {
   "cell_type": "code",
   "execution_count": 0,
   "metadata": {
    "application/vnd.databricks.v1+cell": {
     "cellMetadata": {},
     "inputWidgets": {},
     "nuid": "b02644af-7628-43cc-82f2-f9be0e63fa9a",
     "showTitle": false,
     "tableResultSettingsMap": {},
     "title": ""
    }
   },
   "outputs": [],
   "source": [
    "%sql\n",
    "CREATE TABLE IF NOT EXISTS imdb_dev.bronze.crew\n",
    "(\n",
    "  tconst STRING,\n",
    "  directors ARRAY<STRING>,\n",
    "  writers ARRAY<STRING>\n",
    ")\n",
    "USING CSV \n",
    "OPTIONS (\n",
    "  path \"abfss://bronze@storageaccimdbdl.dfs.core.windows.net/title.crew.tsv\",\n",
    "  header \"true\",\n",
    "  delimeter '\\t'\n",
    "  );"
   ]
  },
  {
   "cell_type": "code",
   "execution_count": 0,
   "metadata": {
    "application/vnd.databricks.v1+cell": {
     "cellMetadata": {},
     "inputWidgets": {},
     "nuid": "7e4fa968-b289-4bab-959a-7ad4eec620e9",
     "showTitle": false,
     "tableResultSettingsMap": {},
     "title": ""
    }
   },
   "outputs": [],
   "source": [
    "%sql\n",
    "CREATE TABLE IF NOT EXISTS imdb_dev.bronze.title_basics\n",
    "(\n",
    "  tconst STRING,\n",
    "  titleType STRING,\n",
    "  primaryTitle STRING,\n",
    "  originalTitle STRING,\n",
    "  isAdult STRING,\n",
    "  startYear INT,\n",
    "  endYear INT,\n",
    "  runtimeMinutes INT,\n",
    "  genres ARRAY<STRING>\n",
    ")\n",
    "USING CSV \n",
    "OPTIONS (\n",
    "  path \"abfss://bronze@storageaccimdbdl.dfs.core.windows.net/title.title_basics.tsv\",\n",
    "  header \"true\",\n",
    "  delimeter '\\t'\n",
    "  );"
   ]
  },
  {
   "cell_type": "code",
   "execution_count": 0,
   "metadata": {
    "application/vnd.databricks.v1+cell": {
     "cellMetadata": {},
     "inputWidgets": {},
     "nuid": "7989e709-2d62-4c66-a24b-7ae39c0e3c18",
     "showTitle": false,
     "tableResultSettingsMap": {},
     "title": ""
    }
   },
   "outputs": [],
   "source": [
    "%sql\n",
    "CREATE TABLE IF NOT EXISTS imdb_dev.bronze.title_akas\n",
    "(\n",
    "  titleId STRING,\n",
    "  ordering INT,\n",
    "  title STRING,\n",
    "  region STRING,\n",
    "  language STRING,\n",
    "  types ARRAY<STRING>,\n",
    "  attributes ARRAY<STRING>,\n",
    "  isOriginalTitle BOOLEAN\n",
    ")\n",
    "USING CSV \n",
    "OPTIONS (\n",
    "  path \"abfss://bronze@storageaccimdbdl.dfs.core.windows.net/title.title_akas.tsv\",\n",
    "  header \"true\",\n",
    "  delimeter '\\t'\n",
    "  );"
   ]
  }
 ],
 "metadata": {
  "application/vnd.databricks.v1+notebook": {
   "computePreferences": null,
   "dashboards": [],
   "environmentMetadata": {
    "base_environment": "",
    "environment_version": "2"
   },
   "inputWidgetPreferences": null,
   "language": "python",
   "notebookMetadata": {
    "pythonIndentUnit": 4
   },
   "notebookName": "1.create_bronze_tables",
   "widgets": {}
  },
  "language_info": {
   "name": "python"
  }
 },
 "nbformat": 4,
 "nbformat_minor": 0
}