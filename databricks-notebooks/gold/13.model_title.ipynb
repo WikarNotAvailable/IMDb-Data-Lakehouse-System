{
 "cells": [
  {
   "cell_type": "code",
   "execution_count": 0,
   "metadata": {
    "application/vnd.databricks.v1+cell": {
     "cellMetadata": {
      "byteLimit": 2048000,
      "rowLimit": 10000
     },
     "inputWidgets": {},
     "nuid": "9a867158-2342-4308-bfb9-98dca31c40be",
     "showTitle": false,
     "tableResultSettingsMap": {},
     "title": ""
    }
   },
   "outputs": [],
   "source": [
    "df_title = spark.read.table(\"imdb_dev.silver.Title\") \n",
    "df_title_type = spark.read.table(\"imdb_dev.silver.TitleType\") \n",
    "df_episode = spark.read.table(\"imdb_dev.silver.TitleEpisode\") \n",
    "\n",
    "df_title_dim = (\n",
    "    df_title.join(df_title_type, on=\"titleTypeId\", how=\"left\")\n",
    "    .join(df_episode, on=\"titleId\", how=\"left\")\n",
    "    .drop(\"originalTitle\", \"parentTitleId\", \"titleTypeId\")\n",
    ")\n",
    "df_title_dim = df_title_dim.select(\"titleId\", \"runtimeMinutes\", \"primaryTitle\", \"isAdult\", \"titleType\", \"seasonNumber\", \"episodeNumber\", \"startYear\", \"endYear\")\n",
    "df_title_dim.write.format(\"delta\").mode(\"overwrite\").insertInto(\"imdb_dev.gold.TitleDim\")"
   ]
  }
 ],
 "metadata": {
  "application/vnd.databricks.v1+notebook": {
   "computePreferences": null,
   "dashboards": [],
   "environmentMetadata": {
    "base_environment": "",
    "environment_version": "2"
   },
   "inputWidgetPreferences": null,
   "language": "python",
   "notebookMetadata": {
    "pythonIndentUnit": 4
   },
   "notebookName": "13.model_title",
   "widgets": {}
  },
  "language_info": {
   "name": "python"
  }
 },
 "nbformat": 4,
 "nbformat_minor": 0
}