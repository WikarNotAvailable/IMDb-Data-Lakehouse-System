{
 "cells": [
  {
   "cell_type": "code",
   "execution_count": null,
   "id": "59184d0e",
   "metadata": {},
   "outputs": [
    {
     "name": "stdout",
     "output_type": "stream",
     "text": [
      "+---------+---------------+---------+---------+--------------------+--------------------+\n",
      "|   nconst|    primaryName|birthYear|deathYear|   primaryProfession|      knownForTitles|\n",
      "+---------+---------------+---------+---------+--------------------+--------------------+\n",
      "|nm0000001|   Fred Astaire|     1899|     1987|actor,miscellaneo...|tt0072308,tt00504...|\n",
      "|nm0000002|  Lauren Bacall|     1924|     2014|actress,soundtrac...|tt0037382,tt00752...|\n",
      "|nm0000003|Brigitte Bardot|     1934|       \\N|actress,music_dep...|tt0057345,tt00491...|\n",
      "|nm0000004|   John Belushi|     1949|     1982|actor,writer,musi...|tt0072562,tt00779...|\n",
      "|nm0000005| Ingmar Bergman|     1918|     2007|writer,director,a...|tt0050986,tt00694...|\n",
      "|nm0000006| Ingrid Bergman|     1915|     1982|actress,producer,...|tt0034583,tt00381...|\n",
      "|nm0000007|Humphrey Bogart|     1899|     1957|actor,producer,mi...|tt0034583,tt00432...|\n",
      "|nm0000008|  Marlon Brando|     1924|     2004|actor,director,wr...|tt0078788,tt00686...|\n",
      "|nm0000009| Richard Burton|     1925|     1984|actor,producer,di...|tt0061184,tt00878...|\n",
      "|nm0000010|   James Cagney|     1899|     1986|actor,director,pr...|tt0029870,tt00318...|\n",
      "+---------+---------------+---------+---------+--------------------+--------------------+\n",
      "only showing top 10 rows\n",
      "\n"
     ]
    }
   ],
   "source": [
    "from pyspark.sql import SparkSession\n",
    "spark = (\n",
    "    SparkSession.builder.appName(\"Transform\")    \n",
    "    .config(\"spark.sql.parquet.enableVectorizedReader\", \"true\")\n",
    "    .config(\"spark.sql.parquet.mergeSchema\", \"false\") \n",
    "    .config(\"spark.executor.memory\", \"16g\")\n",
    "    .config(\"spark.driver.memory\", \"16g\")\n",
    "    .getOrCreate()\n",
    ")\n",
    "\n",
    "df = spark.read.option(\"delimiter\", \"\\t\").option(\"header\", True).csv(\"../data/27-05-2025/name.basics.tsv\") #to change\n",
    "\n",
    "df.show(10)"
   ]
  }
 ],
 "metadata": {
  "kernelspec": {
   "display_name": "Python 3",
   "language": "python",
   "name": "python3"
  },
  "language_info": {
   "codemirror_mode": {
    "name": "ipython",
    "version": 3
   },
   "file_extension": ".py",
   "mimetype": "text/x-python",
   "name": "python",
   "nbconvert_exporter": "python",
   "pygments_lexer": "ipython3",
   "version": "3.11.9"
  }
 },
 "nbformat": 4,
 "nbformat_minor": 5
}
