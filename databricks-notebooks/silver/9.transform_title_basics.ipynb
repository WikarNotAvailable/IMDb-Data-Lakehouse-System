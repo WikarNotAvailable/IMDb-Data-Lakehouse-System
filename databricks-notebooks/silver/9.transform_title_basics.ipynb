{
 "cells": [
  {
   "cell_type": "code",
   "execution_count": 0,
   "metadata": {
    "application/vnd.databricks.v1+cell": {
     "cellMetadata": {
      "byteLimit": 2048000,
      "rowLimit": 10000
     },
     "inputWidgets": {},
     "nuid": "2cc07290-8525-4958-9fc2-38df6a2edfe7",
     "showTitle": false,
     "tableResultSettingsMap": {},
     "title": ""
    }
   },
   "outputs": [],
   "source": [
    "from pyspark.sql.functions import udf, col, when, split, mean, stddev, explode\n",
    "from pyspark.sql.types import IntegerType, StringType\n",
    "import random\n",
    "import uuid\n",
    "\n",
    "def generate_runtime(mean_val, std_val):\n",
    "    if mean_val is None or std_val is None:\n",
    "        return None\n",
    "    val = int(random.normalvariate(mean_val, std_val))\n",
    "    return max(val, 1)\n",
    "generate_runtime_udf = udf(generate_runtime, IntegerType())\n",
    "                           \n",
    "def generate_uuid():\n",
    "    return str(uuid.uuid4())\n",
    "uuid_udf = udf(generate_uuid, StringType())\n",
    "\n",
    "df = spark.read.table(\"imdb_dev.bronze.title_basics\") \n",
    "\n",
    "df_not_shifted = df.filter((col(\"isAdult\") == 0) | (col(\"isAdult\") == 1))\n",
    "df_shifted = df.filter((col(\"isAdult\") != 0) & (col(\"isAdult\") != 1)) #600 records were shifted by 1 column\n",
    "df_shifted = (\n",
    "    df_shifted.withColumn(\"genres\", col(\"runtimeMinutes\"))\n",
    "    .withColumn(\"runtimeMinutes\", col(\"endYear\"))\n",
    "    .withColumn(\"endYear\", col(\"startYear\"))\n",
    "    .withColumn(\"startYear\", col(\"isAdult\"))\n",
    "    .withColumn(\"isAdult\", col(\"originalTitle\"))\n",
    "    .withColumn(\"originalTitle\", col(\"primaryTitle\"))\n",
    ")\n",
    "\n",
    "df_title = (\n",
    "    df_not_shifted.unionByName(df_shifted)\n",
    "    .withColumnRenamed(\"tconst\", \"titleId\") \n",
    "    .withColumn(\"genres\", when(col(\"genres\") == \"\\\\N\", \"Other\").otherwise(col(\"genres\")))\n",
    "    .withColumn(\"genres\", split(\"genres\", \",\"))\n",
    ")\n",
    "#12% empty start year, 4% empty genre, 67% dont have runtime, 98% empty end year - empty by default for non tvseries \n",
    "#runtime should be skipped but will be filled with normal distribution of existing values for research purposes"
   ]
  },
  {
   "cell_type": "code",
   "execution_count": 0,
   "metadata": {
    "application/vnd.databricks.v1+cell": {
     "cellMetadata": {
      "byteLimit": 2048000,
      "rowLimit": 10000
     },
     "inputWidgets": {},
     "nuid": "c11790bf-c767-457a-b491-c8109b2404c0",
     "showTitle": false,
     "tableResultSettingsMap": {},
     "title": ""
    }
   },
   "outputs": [],
   "source": [
    "df_genre = (\n",
    "    df_title.select(explode(\"genres\").alias(\"genre\"))\n",
    "    .distinct()\n",
    "    .withColumn(\"genreId\", uuid_udf())\n",
    ")\n",
    "df_genre = df_genre.select(\"genreId\", \"genre\")\n",
    "df_genre.write.format(\"delta\").mode(\"overwrite\").insertInto(\"imdb_dev.silver.Genre\")"
   ]
  },
  {
   "cell_type": "code",
   "execution_count": 0,
   "metadata": {
    "application/vnd.databricks.v1+cell": {
     "cellMetadata": {
      "byteLimit": 2048000,
      "rowLimit": 10000
     },
     "inputWidgets": {},
     "nuid": "5935b1dc-543d-452e-b735-143f9b844cd7",
     "showTitle": false,
     "tableResultSettingsMap": {},
     "title": ""
    }
   },
   "outputs": [],
   "source": [
    "df_genre = spark.read.table(\"imdb_dev.silver.Genre\") \n",
    "\n",
    "df_genre_of_title = (\n",
    "    df_title.select(\"titleId\", explode(\"genres\").alias(\"genre\"))\n",
    "    .join(df_genre, on=\"genre\", how=\"left\")\n",
    "    .drop(\"genre\")\n",
    ")\n",
    "df_genre_of_title = df_genre_of_title.select(\"genreId\", \"titleId\")\n",
    "df_genre_of_title.write.format(\"delta\").mode(\"overwrite\").insertInto(\"imdb_dev.silver.GenreOfTitle\")"
   ]
  },
  {
   "cell_type": "code",
   "execution_count": 0,
   "metadata": {
    "application/vnd.databricks.v1+cell": {
     "cellMetadata": {
      "byteLimit": 2048000,
      "rowLimit": 10000
     },
     "inputWidgets": {},
     "nuid": "71280fba-11d6-476c-a6a6-f3a9fa25326b",
     "showTitle": false,
     "tableResultSettingsMap": {},
     "title": ""
    }
   },
   "outputs": [],
   "source": [
    "df_title_type = (\n",
    "    df_title.select(\"titleType\")\n",
    "    .distinct()\n",
    "    .withColumn(\"titleTypeId\", uuid_udf())\n",
    ")\n",
    "df_title_type = df_title_type.select(\"titleTypeId\", \"titleType\")\n",
    "df_title_type.write.format(\"delta\").mode(\"overwrite\").insertInto(\"imdb_dev.silver.TitleType\")"
   ]
  },
  {
   "cell_type": "code",
   "execution_count": 0,
   "metadata": {
    "application/vnd.databricks.v1+cell": {
     "cellMetadata": {
      "byteLimit": 2048000,
      "rowLimit": 10000
     },
     "inputWidgets": {},
     "nuid": "7915dd36-b75e-46a4-99b4-f6b2d3d8ec26",
     "showTitle": false,
     "tableResultSettingsMap": {},
     "title": ""
    }
   },
   "outputs": [],
   "source": [
    "df_title_type = spark.read.table(\"imdb_dev.silver.TitleType\") \n",
    "\n",
    "runtime_stats = (\n",
    "    df_title.filter(col(\"runtimeMinutes\").isNotNull())\n",
    "      .groupBy(\"titleType\")\n",
    "      .agg(\n",
    "          mean(\"runtimeMinutes\").alias(\"mean_runtime\"),\n",
    "          stddev(\"runtimeMinutes\").alias(\"stddev_runtime\")\n",
    "      )\n",
    ")\n",
    "df_title_with_stats = df_title.join(runtime_stats, on=\"titleType\", how=\"left\")\n",
    "\n",
    "df_title = (\n",
    "    df_title_with_stats.withColumn(\"runtimeMinutes\", when(col(\"runtimeMinutes\").isNull(), generate_runtime_udf(col(\"mean_runtime\"), col(\"stddev_runtime\"))).otherwise(col(\"runtimeMinutes\")))\n",
    "    .drop(\"mean_runtime\", \"stddev_runtime\")\n",
    "    .withColumn(\"startYear\", col(\"startYear\").cast(\"int\"))\n",
    "    .withColumn(\"endYear\", when(col(\"endYear\").isNull(), col(\"startYear\")).otherwise(col(\"endYear\")))\n",
    "    .join(df_title_type, on=\"titleType\", how=\"left\")\n",
    "    .drop(\"genres\", \"titleType\")\n",
    ")\n",
    "df_title = df_title.select(\"titleId\", \"titleTypeId\", \"primaryTitle\", \"originalTitle\", \"isAdult\", \"startYear\", \"endYear\", \"runtimeMinutes\")\n",
    "df_title.write.format(\"delta\").mode(\"overwrite\").insertInto(\"imdb_dev.silver.Title\")"
   ]
  }
 ],
 "metadata": {
  "application/vnd.databricks.v1+notebook": {
   "computePreferences": null,
   "dashboards": [],
   "environmentMetadata": {
    "base_environment": "",
    "environment_version": "2"
   },
   "inputWidgetPreferences": null,
   "language": "python",
   "notebookMetadata": {
    "pythonIndentUnit": 4
   },
   "notebookName": "9.transform_title_basics",
   "widgets": {}
  },
  "language_info": {
   "name": "python"
  }
 },
 "nbformat": 4,
 "nbformat_minor": 0
}