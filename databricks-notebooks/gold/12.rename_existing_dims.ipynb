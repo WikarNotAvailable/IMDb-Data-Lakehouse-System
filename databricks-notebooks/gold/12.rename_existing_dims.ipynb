{
 "cells": [
  {
   "cell_type": "code",
   "execution_count": 0,
   "metadata": {
    "application/vnd.databricks.v1+cell": {
     "cellMetadata": {
      "byteLimit": 2048000,
      "rowLimit": 10000
     },
     "inputWidgets": {},
     "nuid": "f7b4ef71-120e-495f-9da2-bf8d57b235dc",
     "showTitle": false,
     "tableResultSettingsMap": {},
     "title": ""
    }
   },
   "outputs": [],
   "source": [
    "df_category_dim = spark.read.table(\"imdb_dev.silver.Category\") \n",
    "df_category_dim.write.format(\"delta\").mode(\"overwrite\").insertInto(\"imdb_dev.gold.CategoryDim\")"
   ]
  },
  {
   "cell_type": "code",
   "execution_count": 0,
   "metadata": {
    "application/vnd.databricks.v1+cell": {
     "cellMetadata": {
      "byteLimit": 2048000,
      "rowLimit": 10000
     },
     "inputWidgets": {},
     "nuid": "2e90ce96-567e-4ca3-a128-cbf5db304037",
     "showTitle": false,
     "tableResultSettingsMap": {},
     "title": ""
    }
   },
   "outputs": [],
   "source": [
    "df_person_dim = spark.read.table(\"imdb_dev.silver.Person\") \n",
    "df_person_dim.write.format(\"delta\").mode(\"overwrite\").insertInto(\"imdb_dev.gold.PersonDim\")"
   ]
  },
  {
   "cell_type": "code",
   "execution_count": 0,
   "metadata": {
    "application/vnd.databricks.v1+cell": {
     "cellMetadata": {
      "byteLimit": 2048000,
      "rowLimit": 10000
     },
     "inputWidgets": {},
     "nuid": "d46b38fa-5dc9-4bf3-a65e-41e218cfd4e5",
     "showTitle": false,
     "tableResultSettingsMap": {},
     "title": ""
    }
   },
   "outputs": [],
   "source": [
    "df_genre_dim = spark.read.table(\"imdb_dev.silver.Genre\") \n",
    "df_genre_bridge = spark.read.table(\"imdb_dev.silver.GenreOfTitle\") \n",
    "\n",
    "df_genre_dim.write.format(\"delta\").mode(\"overwrite\").insertInto(\"imdb_dev.gold.GenreDim\")\n",
    "df_genre_bridge.write.format(\"delta\").mode(\"overwrite\").insertInto(\"imdb_dev.gold.GenreBridge\")"
   ]
  },
  {
   "cell_type": "code",
   "execution_count": 0,
   "metadata": {
    "application/vnd.databricks.v1+cell": {
     "cellMetadata": {
      "byteLimit": 2048000,
      "rowLimit": 10000
     },
     "inputWidgets": {},
     "nuid": "758b7b85-61f8-44b1-92b1-0a5b38aa9478",
     "showTitle": false,
     "tableResultSettingsMap": {},
     "title": ""
    }
   },
   "outputs": [],
   "source": [
    "df_primary_profession_bridge = spark.read.table(\"imdb_dev.silver.PersonPrimaryProfession\") \n",
    "df_primary_profession_dim = spark.read.table(\"imdb_dev.silver.Profession\")  \n",
    "\n",
    "df_primary_profession_dim.write.format(\"delta\").mode(\"overwrite\").insertInto(\"imdb_dev.gold.PrimaryProfessionDim\")\n",
    "df_primary_profession_bridge.write.format(\"delta\").mode(\"overwrite\").insertInto(\"imdb_dev.gold.PrimaryProfessionBridge\")"
   ]
  }
 ],
 "metadata": {
  "application/vnd.databricks.v1+notebook": {
   "computePreferences": null,
   "dashboards": [],
   "environmentMetadata": {
    "base_environment": "",
    "environment_version": "2"
   },
   "inputWidgetPreferences": null,
   "language": "python",
   "notebookMetadata": {
    "pythonIndentUnit": 4
   },
   "notebookName": "12.rename_existing_dims",
   "widgets": {}
  },
  "language_info": {
   "name": "python"
  }
 },
 "nbformat": 4,
 "nbformat_minor": 0
}