{
 "cells": [
  {
   "cell_type": "code",
   "execution_count": null,
   "id": "4705903e",
   "metadata": {},
   "outputs": [],
   "source": [
    "import urllib.request\n",
    "import gzip\n",
    "import shutil\n",
    "from datetime import datetime\n",
    "import os\n",
    "\n",
    "download_path = f\"../data/{datetime.today().strftime('%d-%m-%Y')}/\"\n",
    "os.makedirs(download_path)\n",
    "\n",
    "imdb_dataset_domain: str = \"https://datasets.imdbws.com/\"\n",
    "all_dataset_filenames: list[str] = [\"name.basics.tsv\", \"title.akas.tsv\", \"title.basics.tsv\", \"title.crew.tsv\", \"title.episode.tsv\", \"title.principals.tsv\", \"title.ratings.tsv\"]\n",
    "\n",
    "for filename in all_dataset_filenames:\n",
    "    urllib.request.urlretrieve(f\"{imdb_dataset_domain}{filename}.gz\", f\"{download_path}{filename}.gz\")\n",
    "    \n",
    "    with gzip.open(f\"{download_path}{filename}.gz\", \"rb\") as f_in:\n",
    "        with open(f\"{download_path}{filename}\", \"wb\") as f_out:\n",
    "            shutil.copyfileobj(f_in, f_out)\n",
    "            \n",
    "    os.remove(f\"{download_path}{filename}.gz\")\n"
   ]
  }
 ],
 "metadata": {
  "kernelspec": {
   "display_name": "Python 3",
   "language": "python",
   "name": "python3"
  },
  "language_info": {
   "codemirror_mode": {
    "name": "ipython",
    "version": 3
   },
   "file_extension": ".py",
   "mimetype": "text/x-python",
   "name": "python",
   "nbconvert_exporter": "python",
   "pygments_lexer": "ipython3",
   "version": "3.11.9"
  }
 },
 "nbformat": 4,
 "nbformat_minor": 5
}
