{
 "cells": [
  {
   "cell_type": "code",
   "execution_count": 0,
   "metadata": {
    "application/vnd.databricks.v1+cell": {
     "cellMetadata": {
      "byteLimit": 2048000,
      "rowLimit": 10000
     },
     "inputWidgets": {},
     "nuid": "8ecc3d26-239e-48d0-8d1f-b49ac7e9a390",
     "showTitle": false,
     "tableResultSettingsMap": {},
     "title": ""
    }
   },
   "outputs": [],
   "source": [
    "from pyspark.sql.functions import udf\n",
    "from pyspark.sql.types import StringType\n",
    "import uuid\n",
    "\n",
    "def generate_uuid():\n",
    "    return str(uuid.uuid4())\n",
    "uuid_udf = udf(generate_uuid, StringType())\n",
    "\n",
    "df_title_AKAS = spark.read.table(\"imdb_dev.silver.TitleAKAS\") \n",
    "df_type_AKAS = spark.read.table(\"imdb_dev.silver.TypeAKAS\") \n",
    "df_type_of_alternative = spark.read.table(\"imdb_dev.silver.TypeOfAlternative\") \n",
    "df_region = spark.read.table(\"imdb_dev.silver.Region\") \n",
    "\n",
    "df_title_AKAS = (\n",
    "    df_title_AKAS.join(df_region, on=\"regionId\", how=\"left\")\n",
    "    .drop(\"regionId\", \"title\")\n",
    ")\n",
    "df_type_of_alternative = (\n",
    "    df_type_of_alternative.join(df_type_AKAS, on=\"typeAKASId\", how=\"left\")\n",
    "    .withColumnRenamed(\"typeAKAS\", \"AKAStype\")\n",
    "    .drop(\"typeAKASId\")\n",
    ")\n",
    "df_AKAS_bridge = (\n",
    "    df_title_AKAS.join(df_type_of_alternative, on=\"titleAKASId\", how=\"left\")\n",
    "    .drop(\"titleAKASId\")\n",
    ")"
   ]
  },
  {
   "cell_type": "code",
   "execution_count": 0,
   "metadata": {
    "application/vnd.databricks.v1+cell": {
     "cellMetadata": {
      "byteLimit": 2048000,
      "rowLimit": 10000
     },
     "inputWidgets": {},
     "nuid": "2651f408-7e0a-44cc-a88d-51bba1247c71",
     "showTitle": false,
     "tableResultSettingsMap": {},
     "title": ""
    }
   },
   "outputs": [],
   "source": [
    "df_AKAS_dim = (\n",
    "    df_AKAS_bridge.drop(\"titleId\")\n",
    "    .distinct()\n",
    "    .withColumn(\"AKASId\", uuid_udf())\n",
    ")\n",
    "df_AKAS_dim = df_AKAS_dim.select(\"AKASId\", \"AKAStype\", \"region\")\n",
    "df_AKAS_dim.write.format(\"delta\").mode(\"overwrite\").insertInto(\"imdb_dev.gold.AKASDim\")"
   ]
  },
  {
   "cell_type": "code",
   "execution_count": 0,
   "metadata": {
    "application/vnd.databricks.v1+cell": {
     "cellMetadata": {
      "byteLimit": 2048000,
      "rowLimit": 10000
     },
     "inputWidgets": {},
     "nuid": "0d481ba3-e0a1-4ac4-b065-143ec94d33cc",
     "showTitle": false,
     "tableResultSettingsMap": {},
     "title": ""
    }
   },
   "outputs": [],
   "source": [
    "df_AKAS_dim = spark.read.table(\"imdb_dev.gold.AKASDim\") \n",
    "\n",
    "df_AKAS_bridge = (\n",
    "    df_AKAS_bridge\n",
    "    .join(df_AKAS_dim, on=[\"region\", \"AKAStype\"], how='left')\n",
    "    .drop(\"region\", \"AKAStype\")\n",
    ")\n",
    "df_AKAS_bridge = df_AKAS_bridge.select(\"AKASId\", \"titleId\")\n",
    "df_AKAS_bridge.write.format(\"delta\").mode(\"overwrite\").insertInto(\"imdb_dev.gold.AKASBridge\")"
   ]
  }
 ],
 "metadata": {
  "application/vnd.databricks.v1+notebook": {
   "computePreferences": null,
   "dashboards": [],
   "environmentMetadata": {
    "base_environment": "",
    "environment_version": "2"
   },
   "inputWidgetPreferences": null,
   "language": "python",
   "notebookMetadata": {
    "pythonIndentUnit": 4
   },
   "notebookName": "15.model_akas",
   "widgets": {}
  },
  "language_info": {
   "name": "python"
  }
 },
 "nbformat": 4,
 "nbformat_minor": 0
}