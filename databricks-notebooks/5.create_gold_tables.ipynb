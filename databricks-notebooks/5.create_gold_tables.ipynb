{
 "cells": [
  {
   "cell_type": "code",
   "execution_count": 0,
   "metadata": {
    "application/vnd.databricks.v1+cell": {
     "cellMetadata": {
      "byteLimit": 2048000,
      "rowLimit": 10000
     },
     "inputWidgets": {},
     "nuid": "27a41b41-6a45-4f9c-b92a-c7b2be945377",
     "showTitle": false,
     "tableResultSettingsMap": {},
     "title": ""
    }
   },
   "outputs": [
    {
     "data": {
      "text/plain": [
       "DataFrame[]"
      ]
     },
     "execution_count": 1,
     "metadata": {},
     "output_type": "execute_result"
    }
   ],
   "source": [
    "sql = f\"\"\"\n",
    "CREATE TABLE IF NOT EXISTS imdb_dev.gold.OneBigTable\n",
    "(\n",
    "  participationId STRING,\n",
    "  titleId STRING,\n",
    "  titleTypeId STRING,\n",
    "  genreId STRING,\n",
    "  titleAKASId STRING,\n",
    "  typeAKASId STRING,\n",
    "  personId STRING,\n",
    "  categoryId STRING,\n",
    "  professionId STRING,\n",
    "  parentTitleId STRING,\n",
    "  regionId STRING,\n",
    "  primaryTitle STRING,\n",
    "  isAdult BOOLEAN,\n",
    "  startYear INTEGER,\n",
    "  endYear INTEGER,\n",
    "  runtimeMinutes INTEGER,\n",
    "  genre STRING,\n",
    "  averageRating DOUBLE,\n",
    "  numVotes INTEGER,\n",
    "  titleType STRING,\n",
    "  seasonNumber INTEGER,\n",
    "  episodeNumber INTEGER,\n",
    "  region STRING,\n",
    "  typeAKAS STRING,\n",
    "  category STRING,\n",
    "  isKnownForParticipation BOOLEAN,\n",
    "  personName STRING,\n",
    "  birthYear INTEGER,\n",
    "  deathYear INTEGER,\n",
    "  profession STRING\n",
    ")\n",
    "\"\"\"\n",
    "\n",
    "spark.sql(sql)"
   ]
  },
  {
   "cell_type": "code",
   "execution_count": 0,
   "metadata": {
    "application/vnd.databricks.v1+cell": {
     "cellMetadata": {
      "byteLimit": 2048000,
      "rowLimit": 10000
     },
     "inputWidgets": {},
     "nuid": "114f64e4-f502-43b4-a1b3-73d2e1db2160",
     "showTitle": false,
     "tableResultSettingsMap": {},
     "title": ""
    }
   },
   "outputs": [
    {
     "data": {
      "text/plain": [
       "DataFrame[]"
      ]
     },
     "execution_count": 2,
     "metadata": {},
     "output_type": "execute_result"
    }
   ],
   "source": [
    "sql = f\"\"\"\n",
    "CREATE TABLE IF NOT EXISTS imdb_dev.gold.ParticipationFact\n",
    "(\n",
    " participationId STRING,\n",
    " titleId STRING,\n",
    " personId STRING,\n",
    " categoryId STRING,\n",
    " parentTitleId STRING,\n",
    " averageRating DOUBLE,\n",
    " numVotes INT,\n",
    " isKnownForParticipation BOOLEAN\n",
    ")\n",
    "\"\"\"\n",
    "\n",
    "spark.sql(sql)"
   ]
  },
  {
   "cell_type": "code",
   "execution_count": 0,
   "metadata": {
    "application/vnd.databricks.v1+cell": {
     "cellMetadata": {
      "byteLimit": 2048000,
      "rowLimit": 10000
     },
     "inputWidgets": {},
     "nuid": "0dfab1b7-061f-4f88-ae38-c7340fd03bed",
     "showTitle": false,
     "tableResultSettingsMap": {},
     "title": ""
    }
   },
   "outputs": [
    {
     "data": {
      "text/plain": [
       "DataFrame[]"
      ]
     },
     "execution_count": 3,
     "metadata": {},
     "output_type": "execute_result"
    }
   ],
   "source": [
    "sql = f\"\"\"\n",
    "CREATE TABLE IF NOT EXISTS imdb_dev.gold.CategoryDim\n",
    "(\n",
    " categoryId STRING,\n",
    " category STRING\n",
    ")\n",
    "\"\"\"\n",
    "\n",
    "spark.sql(sql)"
   ]
  },
  {
   "cell_type": "code",
   "execution_count": 0,
   "metadata": {
    "application/vnd.databricks.v1+cell": {
     "cellMetadata": {
      "byteLimit": 2048000,
      "rowLimit": 10000
     },
     "inputWidgets": {},
     "nuid": "11e5a5be-9889-4b26-966c-d2016c14a898",
     "showTitle": false,
     "tableResultSettingsMap": {},
     "title": ""
    }
   },
   "outputs": [
    {
     "data": {
      "text/plain": [
       "DataFrame[]"
      ]
     },
     "execution_count": 4,
     "metadata": {},
     "output_type": "execute_result"
    }
   ],
   "source": [
    "sql = f\"\"\"\n",
    "CREATE TABLE IF NOT EXISTS imdb_dev.gold.TitleDim\n",
    "(\n",
    " titleId STRING,\n",
    " runtimeMinutes INTEGER,\n",
    " primaryTitle STRING,\n",
    " isAdult BOOLEAN,\n",
    " titleType STRING,\n",
    " seasonNumber INTEGER,\n",
    " episodeNumber INTEGER,\n",
    " startYear INTEGER,\n",
    " endYear INTEGER\n",
    ")\n",
    "\"\"\"\n",
    "\n",
    "spark.sql(sql)"
   ]
  },
  {
   "cell_type": "code",
   "execution_count": 0,
   "metadata": {
    "application/vnd.databricks.v1+cell": {
     "cellMetadata": {
      "byteLimit": 2048000,
      "rowLimit": 10000
     },
     "inputWidgets": {},
     "nuid": "d40d456c-5225-43d7-b0d9-84e795f05684",
     "showTitle": false,
     "tableResultSettingsMap": {},
     "title": ""
    }
   },
   "outputs": [
    {
     "data": {
      "text/plain": [
       "DataFrame[]"
      ]
     },
     "execution_count": 5,
     "metadata": {},
     "output_type": "execute_result"
    }
   ],
   "source": [
    "sql = f\"\"\"\n",
    "CREATE TABLE IF NOT EXISTS imdb_dev.gold.PersonDim\n",
    "(\n",
    " personId STRING,\n",
    " personName STRING,\n",
    " birthYear INTEGER,\n",
    " deathYear INTEGER\n",
    ")\n",
    "\"\"\"\n",
    "\n",
    "spark.sql(sql)"
   ]
  },
  {
   "cell_type": "code",
   "execution_count": 0,
   "metadata": {
    "application/vnd.databricks.v1+cell": {
     "cellMetadata": {
      "byteLimit": 2048000,
      "rowLimit": 10000
     },
     "inputWidgets": {},
     "nuid": "69e231b8-9ee4-4d6c-a8e5-5debff90f1c3",
     "showTitle": false,
     "tableResultSettingsMap": {},
     "title": ""
    }
   },
   "outputs": [
    {
     "data": {
      "text/plain": [
       "DataFrame[]"
      ]
     },
     "execution_count": 6,
     "metadata": {},
     "output_type": "execute_result"
    }
   ],
   "source": [
    "sql = f\"\"\"\n",
    "CREATE TABLE IF NOT EXISTS imdb_dev.gold.GenreDim\n",
    "(\n",
    " genreId STRING,\n",
    " genre STRING\n",
    ")\n",
    "\"\"\"\n",
    "\n",
    "spark.sql(sql)"
   ]
  },
  {
   "cell_type": "code",
   "execution_count": 0,
   "metadata": {
    "application/vnd.databricks.v1+cell": {
     "cellMetadata": {
      "byteLimit": 2048000,
      "rowLimit": 10000
     },
     "inputWidgets": {},
     "nuid": "c71e5860-bff3-43a6-94f2-59b359b27488",
     "showTitle": false,
     "tableResultSettingsMap": {},
     "title": ""
    }
   },
   "outputs": [
    {
     "data": {
      "text/plain": [
       "DataFrame[]"
      ]
     },
     "execution_count": 7,
     "metadata": {},
     "output_type": "execute_result"
    }
   ],
   "source": [
    "sql = f\"\"\"\n",
    "CREATE TABLE IF NOT EXISTS imdb_dev.gold.GenreBridge\n",
    "(\n",
    " genreId STRING,\n",
    " titleId STRING\n",
    ")\n",
    "\"\"\"\n",
    "\n",
    "spark.sql(sql)"
   ]
  },
  {
   "cell_type": "code",
   "execution_count": 0,
   "metadata": {
    "application/vnd.databricks.v1+cell": {
     "cellMetadata": {
      "byteLimit": 2048000,
      "rowLimit": 10000
     },
     "inputWidgets": {},
     "nuid": "086ef091-4c90-4e65-9f29-15166438c4a0",
     "showTitle": false,
     "tableResultSettingsMap": {},
     "title": ""
    }
   },
   "outputs": [
    {
     "data": {
      "text/plain": [
       "DataFrame[]"
      ]
     },
     "execution_count": 8,
     "metadata": {},
     "output_type": "execute_result"
    }
   ],
   "source": [
    "sql = f\"\"\"\n",
    "CREATE TABLE IF NOT EXISTS imdb_dev.gold.AKASDim\n",
    "(\n",
    " AKASId STRING,\n",
    " AKAStype STRING,\n",
    " region STRING\n",
    ")\n",
    "\"\"\"\n",
    "\n",
    "spark.sql(sql)"
   ]
  },
  {
   "cell_type": "code",
   "execution_count": 0,
   "metadata": {
    "application/vnd.databricks.v1+cell": {
     "cellMetadata": {
      "byteLimit": 2048000,
      "rowLimit": 10000
     },
     "inputWidgets": {},
     "nuid": "cb2a017e-cdc2-4abe-9e84-b621dd8ce089",
     "showTitle": false,
     "tableResultSettingsMap": {},
     "title": ""
    }
   },
   "outputs": [
    {
     "data": {
      "text/plain": [
       "DataFrame[]"
      ]
     },
     "execution_count": 9,
     "metadata": {},
     "output_type": "execute_result"
    }
   ],
   "source": [
    "sql = f\"\"\"\n",
    "CREATE TABLE IF NOT EXISTS imdb_dev.gold.AKASBridge\n",
    "(\n",
    " AKASId STRING,\n",
    " titleId STRING\n",
    ")\n",
    "\"\"\"\n",
    "\n",
    "spark.sql(sql)"
   ]
  },
  {
   "cell_type": "code",
   "execution_count": 0,
   "metadata": {
    "application/vnd.databricks.v1+cell": {
     "cellMetadata": {},
     "inputWidgets": {},
     "nuid": "0da44839-4e5d-430a-a49f-fd1058edaf0b",
     "showTitle": false,
     "tableResultSettingsMap": {},
     "title": ""
    }
   },
   "outputs": [],
   "source": [
    "sql = f\"\"\"\n",
    "CREATE TABLE IF NOT EXISTS imdb_dev.gold.PrimaryProfessionBridge\n",
    "(\n",
    " personId STRING,\n",
    " professionId STRING\n",
    ")\n",
    "\"\"\"\n",
    "\n",
    "spark.sql(sql)"
   ]
  },
  {
   "cell_type": "code",
   "execution_count": 0,
   "metadata": {
    "application/vnd.databricks.v1+cell": {
     "cellMetadata": {},
     "inputWidgets": {},
     "nuid": "c18dadb1-dbeb-4257-ae31-495776036584",
     "showTitle": false,
     "tableResultSettingsMap": {},
     "title": ""
    }
   },
   "outputs": [],
   "source": [
    "sql = f\"\"\"\n",
    "CREATE TABLE IF NOT EXISTS imdb_dev.gold.PrimaryProfessionDim\n",
    "(\n",
    " professionId STRING,\n",
    " profession STRING\n",
    ")\n",
    "\"\"\"\n",
    "\n",
    "spark.sql(sql)"
   ]
  }
 ],
 "metadata": {
  "application/vnd.databricks.v1+notebook": {
   "computePreferences": null,
   "dashboards": [],
   "environmentMetadata": {
    "base_environment": "",
    "environment_version": "2"
   },
   "inputWidgetPreferences": null,
   "language": "python",
   "notebookMetadata": {
    "pythonIndentUnit": 4
   },
   "notebookName": "5.create_gold_tables",
   "widgets": {}
  },
  "language_info": {
   "name": "python"
  }
 },
 "nbformat": 4,
 "nbformat_minor": 0
}
