{
 "cells": [
  {
   "cell_type": "code",
   "execution_count": 0,
   "metadata": {
    "application/vnd.databricks.v1+cell": {
     "cellMetadata": {},
     "inputWidgets": {},
     "nuid": "27a41b41-6a45-4f9c-b92a-c7b2be945377",
     "showTitle": false,
     "tableResultSettingsMap": {},
     "title": ""
    }
   },
   "outputs": [],
   "source": [
    "CREATE TABLE IF NOT EXISTS imdb_dev.gold.OneBigTable\n",
    "(\n",
    "  titleId STRING,\n",
    "  titleTypeId STRING,\n",
    "  titleRatingId STRING,\n",
    "  genreId STRING,\n",
    "  titleAKASId STRING,\n",
    "  typeAKASId STRING,\n",
    "  participationId STRING,\n",
    "  personId STRING,\n",
    "  professionId STRING,\n",
    "  categoryId STRING,\n",
    "  primaryTitle STRING,\n",
    "  originalTitle STRING,\n",
    "  isAdult BOOLEAN,\n",
    "  startYear INTEGER,\n",
    "  endYear INTEGER,\n",
    "  runtimeMinutes INTEGER,\n",
    "  genre STRING,\n",
    "  titleRating DOUBLE,\n",
    "  numVotes INTEGER,\n",
    "  titleType STRING,\n",
    "  numberOfSeasons INTEGER,\n",
    "  numberOfEpisodes INTEGER,\n",
    "  regionName STRING,\n",
    "  typeAKAS STRING,\n",
    "  category STRING,\n",
    "  isKnownForParticipation BOOLEAN,\n",
    "  personName STRING,\n",
    "  birthYear INTEGER,\n",
    "  deathYear INTEGER,\n",
    "  profession STRING\n",
    ")"
   ]
  },
  {
   "cell_type": "code",
   "execution_count": 0,
   "metadata": {
    "application/vnd.databricks.v1+cell": {
     "cellMetadata": {},
     "inputWidgets": {},
     "nuid": "114f64e4-f502-43b4-a1b3-73d2e1db2160",
     "showTitle": false,
     "tableResultSettingsMap": {},
     "title": ""
    }
   },
   "outputs": [],
   "source": [
    "CREATE TABLE IF NOT EXISTS imdb_dev.gold.ParticipationFact\n",
    "(\n",
    " participationId STRING,\n",
    " titleId STRING,\n",
    " personId STRING,\n",
    " timeId STRING,\n",
    " titleRatings DOUBLE,\n",
    " titleNumVotes INT,\n",
    " category STRING,\n",
    " isKnownForTitle BOOLEAN\n",
    ")"
   ]
  },
  {
   "cell_type": "code",
   "execution_count": 0,
   "metadata": {
    "application/vnd.databricks.v1+cell": {
     "cellMetadata": {},
     "inputWidgets": {},
     "nuid": "11e5a5be-9889-4b26-966c-d2016c14a898",
     "showTitle": false,
     "tableResultSettingsMap": {},
     "title": ""
    }
   },
   "outputs": [],
   "source": [
    "CREATE TABLE IF NOT EXISTS imdb_dev.gold.TitleDim\n",
    "(\n",
    " participationId STRING,\n",
    " titleId STRING,\n",
    " personId STRING,\n",
    " timeId STRING,\n",
    " titleRatings DOUBLE,\n",
    " titleNumVotes INT,\n",
    " category STRING,\n",
    " isKnownForTitle BOOLEAN,\n",
    " startYear Integer,\n",
    " endYear Integer\n",
    ")"
   ]
  },
  {
   "cell_type": "code",
   "execution_count": 0,
   "metadata": {
    "application/vnd.databricks.v1+cell": {
     "cellMetadata": {},
     "inputWidgets": {},
     "nuid": "d40d456c-5225-43d7-b0d9-84e795f05684",
     "showTitle": false,
     "tableResultSettingsMap": {},
     "title": ""
    }
   },
   "outputs": [],
   "source": [
    "CREATE TABLE IF NOT EXISTS imdb_dev.gold.PersonDim\n",
    "(\n",
    " personId STRING,\n",
    " titleId STRING,\n",
    " personId STRING,\n",
    " timeId STRING,\n",
    " titleRatings DOUBLE,\n",
    " titleNumVotes INT,\n",
    " category STRING,\n",
    " isKnownForTitle BOOLEAN\n",
    ")"
   ]
  },
  {
   "cell_type": "code",
   "execution_count": 0,
   "metadata": {
    "application/vnd.databricks.v1+cell": {
     "cellMetadata": {},
     "inputWidgets": {},
     "nuid": "69e231b8-9ee4-4d6c-a8e5-5debff90f1c3",
     "showTitle": false,
     "tableResultSettingsMap": {},
     "title": ""
    }
   },
   "outputs": [],
   "source": [
    "CREATE TABLE IF NOT EXISTS imdb_dev.gold.GenreDim\n",
    "(\n",
    " genreId STRING,\n",
    " genre STRING\n",
    ")"
   ]
  },
  {
   "cell_type": "code",
   "execution_count": 0,
   "metadata": {
    "application/vnd.databricks.v1+cell": {
     "cellMetadata": {},
     "inputWidgets": {},
     "nuid": "c71e5860-bff3-43a6-94f2-59b359b27488",
     "showTitle": false,
     "tableResultSettingsMap": {},
     "title": ""
    }
   },
   "outputs": [],
   "source": [
    "CREATE TABLE IF NOT EXISTS imdb_dev.gold.GenreBridge\n",
    "(\n",
    " genreId STRING,\n",
    " titleId STRING\n",
    ")"
   ]
  },
  {
   "cell_type": "code",
   "execution_count": 0,
   "metadata": {
    "application/vnd.databricks.v1+cell": {
     "cellMetadata": {},
     "inputWidgets": {},
     "nuid": "086ef091-4c90-4e65-9f29-15166438c4a0",
     "showTitle": false,
     "tableResultSettingsMap": {},
     "title": ""
    }
   },
   "outputs": [],
   "source": [
    "CREATE TABLE IF NOT EXISTS imdb_dev.gold.AKASDim\n",
    "(\n",
    " AKASId STRING,\n",
    " AKAStype STRING,\n",
    " regionName STRING\n",
    ")"
   ]
  },
  {
   "cell_type": "code",
   "execution_count": 0,
   "metadata": {
    "application/vnd.databricks.v1+cell": {
     "cellMetadata": {},
     "inputWidgets": {},
     "nuid": "cb2a017e-cdc2-4abe-9e84-b621dd8ce089",
     "showTitle": false,
     "tableResultSettingsMap": {},
     "title": ""
    }
   },
   "outputs": [],
   "source": [
    "CREATE TABLE IF NOT EXISTS imdb_dev.gold.AKASBridge\n",
    "(\n",
    " AKASId STRING,\n",
    " regionName STRING,\n",
    " AKASType STRING\n",
    ")"
   ]
  }
 ],
 "metadata": {
  "application/vnd.databricks.v1+notebook": {
   "computePreferences": null,
   "dashboards": [],
   "environmentMetadata": {
    "base_environment": "",
    "environment_version": "2"
   },
   "inputWidgetPreferences": null,
   "language": "sql",
   "notebookMetadata": {},
   "notebookName": "3.create_gold_tables",
   "widgets": {}
  },
  "language_info": {
   "name": "sql"
  }
 },
 "nbformat": 4,
 "nbformat_minor": 0
}