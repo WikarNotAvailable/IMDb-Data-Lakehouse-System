{
 "cells": [
  {
   "cell_type": "code",
   "execution_count": 0,
   "metadata": {
    "application/vnd.databricks.v1+cell": {
     "cellMetadata": {
      "byteLimit": 2048000,
      "rowLimit": 10000
     },
     "inputWidgets": {},
     "nuid": "3fce675b-49d8-45f2-a8be-3549d98cd03f",
     "showTitle": false,
     "tableResultSettingsMap": {},
     "title": ""
    }
   },
   "outputs": [],
   "source": [
    "from pyspark.sql.functions import udf, col, when, lit\n",
    "\n",
    "df_known_for_participation = spark.read.table(\"imdb_dev.silver.KnownForParticipation\") \n",
    "df_participation = spark.read.table(\"imdb_dev.silver.Participation\") \n",
    "df_rating = spark.read.table(\"imdb_dev.silver.TitleRating\") \n",
    "df_episode = spark.read.table(\"imdb_dev.silver.TitleEpisode\") \n",
    "\n",
    "df_participation_dim = df_participation.join(\n",
    "    df_known_for_participation.withColumnRenamed(\"personId\", \"kfp_personId\").withColumnRenamed(\"titleId\", \"kfp_titleId\"),\n",
    "    (df_participation[\"personId\"] == col(\"kfp_personId\")) & (df_participation[\"titleId\"] == col(\"kfp_titleId\")),\n",
    "    \"left\"\n",
    ")\n",
    "df_participation_dim = (\n",
    "    df_participation_dim.withColumn(\"isKnownForParticipation\", when(col(\"kfp_personId\").isNotNull(), lit(True)).otherwise(lit(False)))\n",
    "    .join(df_rating, on=\"titleId\", how=\"left\")\n",
    "    .join(df_episode, on=\"titleId\", how=\"left\")\n",
    "    .drop(\"kfp_personId\", \"kfp_titleId\", \"characterName\", \"seasonNumber\", \"episodeNumber\")\n",
    ")\n",
    "\n",
    "df_participation_dim = df_participation_dim.select(\"titleId\", \"personId\", \"categoryId\", \"parentTitleId\", \"averageRating\", \"numVotes\", \"isKnownForParticipation\")\n",
    "df_participation_dim.write.format(\"delta\").mode(\"overwrite\").insertInto(\"imdb_dev.gold.ParticipationFact\")"
   ]
  }
 ],
 "metadata": {
  "application/vnd.databricks.v1+notebook": {
   "computePreferences": null,
   "dashboards": [],
   "environmentMetadata": {
    "base_environment": "",
    "environment_version": "2"
   },
   "inputWidgetPreferences": null,
   "language": "python",
   "notebookMetadata": {
    "pythonIndentUnit": 4
   },
   "notebookName": "14.model_participation",
   "widgets": {}
  },
  "language_info": {
   "name": "python"
  }
 },
 "nbformat": 4,
 "nbformat_minor": 0
}